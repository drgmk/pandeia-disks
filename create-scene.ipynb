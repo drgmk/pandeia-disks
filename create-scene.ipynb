{
 "cells": [
  {
   "cell_type": "markdown",
   "metadata": {},
   "source": [
    "# Create a scene to observe\n",
    "Because we're observing disks, we patch together a bunch of dots."
   ]
  },
  {
   "cell_type": "code",
   "execution_count": 1,
   "metadata": {},
   "outputs": [],
   "source": [
    "import json\n",
    "\n",
    "import pandeia_coronagraphy.scene as pc_scene\n",
    "from pandeia_funcs import *\n",
    "\n",
    "%load_ext autoreload\n",
    "%autoreload 2\n",
    "%matplotlib inline"
   ]
  },
  {
   "cell_type": "code",
   "execution_count": 2,
   "metadata": {},
   "outputs": [],
   "source": [
    "# primary star\n",
    "target_ls = 1.56\n",
    "target_pc = 17.4\n",
    "target_mv = 5.52\n",
    "target_sp = 'f8v'\n",
    "\n",
    "# reference star, spectral type shouldn't matter too much\n",
    "ref_mv = 4.9\n",
    "ref_sp = 'g0v'"
   ]
  },
  {
   "cell_type": "markdown",
   "metadata": {},
   "source": [
    "## Get a star"
   ]
  },
  {
   "cell_type": "code",
   "execution_count": 3,
   "metadata": {},
   "outputs": [],
   "source": [
    "# create target and ref stars\n",
    "targ = [scene_star(target_sp, target_mv)]\n",
    "ref = [scene_star(ref_sp, ref_mv)]"
   ]
  },
  {
   "cell_type": "markdown",
   "metadata": {},
   "source": [
    "## Now add some disk components\n",
    "Below are a few different ways one might do this."
   ]
  },
  {
   "cell_type": "code",
   "execution_count": 4,
   "metadata": {},
   "outputs": [
    {
     "name": "stdout",
     "output_type": "stream",
     "text": [
      "adding 25pt disk with r:1.14943\", dr:0.287356\", tot flux:20mJy @ 20.0um, temp:100.0K, incl:70deg\n",
      "adding 43pt disk with r:4.02299\", dr:0.574713\", tot flux:0.2mJy @ 20.0um, temp:42.0K, incl:70deg\n"
     ]
    }
   ],
   "source": [
    "# individual belts, one element per component\n",
    "r = np.array([20,70]) / target_pc\n",
    "dr = np.array([5,10]) / target_pc\n",
    "tot_flux = [20, 0.2]    # mJy\n",
    "temp = [100., 42.]      # K\n",
    "norm_wave = [20., 20.]  # um\n",
    "\n",
    "# common geometry\n",
    "inc = 70  # deg\n",
    "pa = 30\n",
    "\n",
    "for r1, dr1, fl1, t1, w1 in zip(r, dr, tot_flux, temp, norm_wave):\n",
    "    targ = add_ring(targ, r1, dr1, fl1, t1, w1, inc, pa)\n",
    "    \n",
    "pc_scene.rotate_scene(targ, -pa)"
   ]
  },
  {
   "cell_type": "code",
   "execution_count": 10,
   "metadata": {},
   "outputs": [
    {
     "name": "stdout",
     "output_type": "stream",
     "text": [
      "adding 15pt disk with r:1.43678\", dr:0.574713\", tot flux:0.834266144585mJy @ 20.0um, temp:259.477064306K, incl:70deg\n",
      "adding 21pt disk with r:2.01149\", dr:0.574713\", tot flux:0.705083581672mJy @ 20.0um, temp:219.298144903K, incl:70deg\n",
      "adding 28pt disk with r:2.58621\", dr:0.574713\", tot flux:0.621825270206mJy @ 20.0um, temp:193.402784797K, incl:70deg\n",
      "adding 34pt disk with r:3.16092\", dr:0.574713\", tot flux:0.562462119937mJy @ 20.0um, temp:174.939401068K, incl:70deg\n",
      "adding 40pt disk with r:3.73563\", dr:0.574713\", tot flux:0.517389899102mJy @ 20.0um, temp:160.920844016K, incl:70deg\n",
      "adding 47pt disk with r:4.31034\", dr:0.574713\", tot flux:0.481663783152mJy @ 20.0um, temp:149.809152926K, incl:70deg\n",
      "adding 53pt disk with r:4.88506\", dr:0.574713\", tot flux:0.452444341718mJy @ 20.0um, temp:140.721195883K, incl:70deg\n",
      "adding 59pt disk with r:5.45977\", dr:0.574713\", tot flux:0.427969502111mJy @ 20.0um, temp:133.10892542K, incl:70deg\n"
     ]
    }
   ],
   "source": [
    "# create an extended disk\n",
    "r = np.linspace(20, 100, 9) / target_pc\n",
    "dr = np.diff(r)\n",
    "r_cen = r[:-1] + np.diff(r)/2\n",
    "temp = 278.3 * target_ls**0.25 / np.sqrt(r_cen)\n",
    "flux = 1 / np.sqrt(r_cen)\n",
    "\n",
    "targ = add_radial_profile(targ, r_cen, dr, flux, temp, norm_wave[0], inc, pa)\n",
    "\n",
    "pc_scene.rotate_scene(targ, -pa)"
   ]
  },
  {
   "cell_type": "code",
   "execution_count": 12,
   "metadata": {},
   "outputs": [],
   "source": [
    "# if we were importing an image\n",
    "aspp = 0.5\n",
    "img = np.random.uniform(size=(20,20))\n",
    "y, x = np.indices(img.shape) * aspp\n",
    "x -= (img.shape[1]-1) / 2. * aspp\n",
    "y -= (img.shape[0]-1) / 2. * aspp\n",
    "r = np.sqrt( x**2 + y**2 )\n",
    "dx = np.diff(x)[0,0]\n",
    "temp = lambda x: 278.3 * target_ls**0.25 / np.sqrt(x)\n",
    "ni = 2\n",
    "targ = []\n",
    "for i in range(img.shape[0]):\n",
    "    for j in range(img.shape[1]):\n",
    "        s = get_dot(id=ni, x=x[j,i], y=y[j,i], size=dx, norm_wave=20, norm_flux=img[j,i], temp=temp(r[j,i]))\n",
    "        targ.append(s)\n",
    "        ni += 1"
   ]
  },
  {
   "cell_type": "code",
   "execution_count": 5,
   "metadata": {
    "scrolled": false
   },
   "outputs": [
    {
     "data": {
      "image/png": "[encoded data removed]",
      "text/plain": [
       "<Figure size 360x360 with 1 Axes>"
      ]
     },
     "metadata": {},
     "output_type": "display_data"
    }
   ],
   "source": [
    "# plot it\n",
    "plot_disk_scene(targ)"
   ]
  },
  {
   "cell_type": "code",
   "execution_count": 6,
   "metadata": {},
   "outputs": [],
   "source": [
    "with open('targ.json','w') as f:\n",
    "    json.dump(targ, f)\n",
    "    \n",
    "with open('ref.json','w') as f:\n",
    "    json.dump(ref, f)    "
   ]
  },
  {
   "cell_type": "code",
   "execution_count": null,
   "metadata": {},
   "outputs": [],
   "source": []
  }
 ],
 "metadata": {
  "kernelspec": {
   "display_name": "Python 2",
   "language": "python",
   "name": "python2"
  },
  "language_info": {
   "codemirror_mode": {
    "name": "ipython",
    "version": 2
   },
   "file_extension": ".py",
   "mimetype": "text/x-python",
   "name": "python",
   "nbconvert_exporter": "python",
   "pygments_lexer": "ipython2",
   "version": "2.7.14"
  }
 },
 "nbformat": 4,
 "nbformat_minor": 2
}
